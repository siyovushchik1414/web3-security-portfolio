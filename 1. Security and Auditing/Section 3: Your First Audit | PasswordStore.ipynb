{
 "cells": [
  {
   "cell_type": "markdown",
   "metadata": {},
   "source": [
    "># <center>Section 3: Your First Audit | Password Store</center>"
   ]
  },
  {
   "cell_type": "markdown",
   "metadata": {},
   "source": [
    "># <center>Lesson 1: Your First Security Review</center>\n",
    "\n",
    "<img src = 'https://updraft.cyfrin.io/security-section-3/1-review/firstaudit1.png'>\n",
    "\n",
    "Welcome everyone! I hope you're well-rested, rehydrated, and ready to dive into the nitty-gritty(тонкая грань) of how smart contract audits work. We've had a good start with a high-level overview of what a smart contract audit or a security review contains. Now, we're going to go a level further by conducting not one, but a handful of audits over the next 6 sections.\n",
    "This is an exciting journey to improve our understanding of audits. We'll strengthen our knowledge and learn from some of the best people in the world such as Hans, the number one competitive auditor in the world for the first half of 2023. Now let’s kick things off(Давайте начнем) with the Password Store audit.\n",
    "### The PasswordStore Audit: A Closer Look\n",
    "For out first audit we're immersing(мы погружаемся) ourselves into a scenario where we're auditing the PasswordStore protocol, just like you could if you were working for a firm like Cyfrin. It's a very immersive and experiential(глубокий и экспериментальный) way of learning as we'll be adopting the role of a security researcher who has just received an audit request from a protocol.\n",
    "In later lessons we'll also go through the process of submission findings in a competive scenario like CodeHawks\n",
    "### The End Goal\n",
    "Before jumping into this process ourselves, I'd like us to look at what we're striving towards. Below you can find links to the PasswordStore repo at various phases of an audit.\n",
    "\n",
    "    Security Review CodeV1\n",
    "    Security Review CodeV2\n",
    "    Security Review CodeV3\n",
    "    Security Review Final\n",
    "\n",
    "\n",
    "Take a look specifically at Security Review Final. The audit-data folder contains all the things you'll be able to build by the end of this section, including a professional PDF audit report.\n",
    "### Remember the Phases\n",
    "It’s important to remember the phases for each audit or security review. They include:\n",
    "\n",
    "    Initial Review\n",
    "\n",
    "- Scoping\n",
    "- Reconnaissance(Обзор)\n",
    "- Vulnerability Detection\n",
    "- Reporting\n",
    "\n",
    "    Protocol Fixes\n",
    "\n",
    "- Fixes issues\n",
    "- retests and adds tests\n",
    "\n",
    "    Mitigation Review\n",
    "\n",
    "- Reconnaissance\n",
    "- Vulnerability Detection\n",
    "- Reporting\n",
    "\n",
    "In this course, our main focus will primarily be on how to perform your initial review.\n",
    "We're starting out small with a codebase of less than 20 lines, but this is just the beginning. It's important to remember that you are the security researcher and often times what may be clear or obvious to you, isn't to a protocol. Your expertise is valuable.\n",
    "So, with the expectations set and our targets defined, let's move ahead and commence(начать) our very first smart contract audit or security review. We'll start off with a scenario that will help us better understand what our roles as auditors will look like."
   ]
  },
  {
   "cell_type": "markdown",
   "metadata": {},
   "source": []
  }
 ],
 "metadata": {
  "language_info": {
   "name": "python"
  }
 },
 "nbformat": 4,
 "nbformat_minor": 2
}
