{
 "cells": [
  {
   "cell_type": "markdown",
   "metadata": {},
   "source": [
    "># <center>01 / 01 / 2024<center>"
   ]
  },
  {
   "cell_type": "markdown",
   "metadata": {},
   "source": [
    "\n",
    "># <center>Section 0: Welcome to Course<center>\n",
    "# Почему я хочу пройти этот курс?\n",
    
   ]
  }
 ],
 "metadata": {
  "language_info": {
   "name": "python"
  }
 },
 "nbformat": 4,
 "nbformat_minor": 2
}
