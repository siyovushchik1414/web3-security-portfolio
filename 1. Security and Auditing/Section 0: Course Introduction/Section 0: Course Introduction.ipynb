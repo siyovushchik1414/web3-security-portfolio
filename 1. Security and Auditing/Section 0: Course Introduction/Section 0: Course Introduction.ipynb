{
 "cells": [
  {
   "cell_type": "markdown",
   "metadata": {},
   "source": [
    "># <center>01 / 01 / 2024<center>"
   ]
  },
  {
   "cell_type": "markdown",
   "metadata": {},
   "source": [
    "\n",
    "># <center>Section 0: Welcome to Course<center>\n",
    "# Почему я хочу пройти этот курс?\n",
    "* **Я хочу заниматься этим потому, что мне нужно помочь моей маме**\n",
    "* **Я хочу заняться этим потому, что мне нужно найти хорошую работу**\n",
    "* **Я 3 года занимался Machine Learning, но ничего полезного из этого не получил. Этот курс даст мне основание, на котором я построю свои профессиональные навыки.**"
   ]
  }
 ],
 "metadata": {
  "language_info": {
   "name": "python"
  }
 },
 "nbformat": 4,
 "nbformat_minor": 2
}
